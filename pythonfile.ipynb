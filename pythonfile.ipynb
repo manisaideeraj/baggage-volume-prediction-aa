{
 "cells": [
  {
   "cell_type": "code",
   "execution_count": 9,
   "id": "31425813",
   "metadata": {},
   "outputs": [],
   "source": [
    "import pandas as pd\n",
    "import matplotlib.pyplot as plt"
   ]
  },
  {
   "cell_type": "code",
   "execution_count": 2,
   "id": "7becf7d8",
   "metadata": {},
   "outputs": [],
   "source": [
    "data = pd.read_excel('AA.xlsx')"
   ]
  },
  {
   "cell_type": "code",
   "execution_count": 3,
   "id": "44cae30f",
   "metadata": {},
   "outputs": [
    {
     "name": "stdout",
     "output_type": "stream",
     "text": [
      "<class 'pandas.core.frame.DataFrame'>\n",
      "RangeIndex: 72054 entries, 0 to 72053\n",
      "Data columns (total 73 columns):\n",
      " #   Column                   Non-Null Count  Dtype \n",
      "---  ------                   --------------  ----- \n",
      " 0   ChkFltDate               72054 non-null  object\n",
      " 1   FltName                  72054 non-null  object\n",
      " 2   FltCode                  72054 non-null  int64 \n",
      " 3   DateOfTravel             72054 non-null  object\n",
      " 4   EqptType                 72051 non-null  object\n",
      " 5   ArrLocalGateBag          72054 non-null  int64 \n",
      " 6   ArrConxBag               72054 non-null  object\n",
      " 7   ArrConxGateBag           72054 non-null  int64 \n",
      " 8   ArrLocalPaxBrd           72054 non-null  int64 \n",
      " 9   ArrLocalPaxIn6Hr         72054 non-null  int64 \n",
      " 10  ArrConxPaxBrd            72054 non-null  int64 \n",
      " 11  ArrConxPaxIn6Hr          72054 non-null  int64 \n",
      " 12  ArrConxPaxsWithIntlLeg   72054 non-null  int64 \n",
      " 13  ArrLocalPaxsWithIntlLeg  72054 non-null  int64 \n",
      " 14  ArrConxSortOnePaxs       72054 non-null  int64 \n",
      " 15  ArrConxSortTwoPaxs       72054 non-null  int64 \n",
      " 16  ArrConxSortThreePaxs     72054 non-null  int64 \n",
      " 17  ArrConxSortUnkPaxs       72054 non-null  int64 \n",
      " 18  ArrConxSortOneBags       72054 non-null  int64 \n",
      " 19  ArrConxSortTwoBags       72054 non-null  int64 \n",
      " 20  ArrConxSortThreeBags     72054 non-null  int64 \n",
      " 21  ArrConxSortUnkBags       72054 non-null  int64 \n",
      " 22  ArrConxBTkts             72054 non-null  int64 \n",
      " 23  ArrConxCTkts             72054 non-null  int64 \n",
      " 24  ArrConxDTkts             72054 non-null  int64 \n",
      " 25  ArrConxETkts             72054 non-null  int64 \n",
      " 26  ArrConxFTkts             72054 non-null  int64 \n",
      " 27  ArrConxGTkts             72054 non-null  int64 \n",
      " 28  ArrConxHTkts             72054 non-null  int64 \n",
      " 29  ArrConxITkts             72054 non-null  int64 \n",
      " 30  ArrConxJTkts             72054 non-null  int64 \n",
      " 31  ArrConxKTkts             72054 non-null  int64 \n",
      " 32  ArrConxLTkts             72054 non-null  int64 \n",
      " 33  ArrConxMTkts             72054 non-null  int64 \n",
      " 34  ArrConxNTkts             72054 non-null  int64 \n",
      " 35  ArrConxOTkts             72054 non-null  int64 \n",
      " 36  ArrConxQTkts             72054 non-null  int64 \n",
      " 37  ArrConxRTkts             72054 non-null  int64 \n",
      " 38  ArrConxSTkts             72054 non-null  int64 \n",
      " 39  ArrConxTTkts             72054 non-null  int64 \n",
      " 40  ArrConxUTkts             72054 non-null  int64 \n",
      " 41  ArrConxVTkts             72054 non-null  int64 \n",
      " 42  ArrConxYTkts             72054 non-null  int64 \n",
      " 43  ArrLocalBTkts            72054 non-null  int64 \n",
      " 44  ArrLocalCTkts            72054 non-null  int64 \n",
      " 45  ArrLocalDTkts            72054 non-null  int64 \n",
      " 46  ArrLocalETkts            72054 non-null  int64 \n",
      " 47  ArrLocalFTkts            72054 non-null  int64 \n",
      " 48  ArrLocalGTkts            72054 non-null  int64 \n",
      " 49  ArrLocalHTkts            72054 non-null  int64 \n",
      " 50  ArrLocalITkts            72054 non-null  int64 \n",
      " 51  ArrLocalJTkts            72054 non-null  int64 \n",
      " 52  ArrLocalKTkts            72054 non-null  int64 \n",
      " 53  ArrLocalLTkts            72054 non-null  int64 \n",
      " 54  ArrLocalMTkts            72054 non-null  int64 \n",
      " 55  ArrLocalNTkts            72054 non-null  int64 \n",
      " 56  ArrLocalOTkts            72054 non-null  int64 \n",
      " 57  ArrLocalQTkts            72054 non-null  int64 \n",
      " 58  ArrLocalRTkts            72054 non-null  int64 \n",
      " 59  ArrLocalSTkts            72054 non-null  int64 \n",
      " 60  ArrLocalTTkts            72054 non-null  int64 \n",
      " 61  ArrLocalUTkts            72054 non-null  int64 \n",
      " 62  ArrLocalVTkts            72054 non-null  int64 \n",
      " 63  ArrLocalYTkts            72054 non-null  int64 \n",
      " 64  DelayMin                 72054 non-null  int64 \n",
      " 65  LegStatus                72054 non-null  object\n",
      " 66  DepStatus                72054 non-null  object\n",
      " 67  SchdDept                 72054 non-null  int64 \n",
      " 68  last_modified_date       72054 non-null  object\n",
      " 69  Source                   72054 non-null  object\n",
      " 70  Destination              72054 non-null  object\n",
      " 71  BankType                 72054 non-null  object\n",
      " 72  BankNumber               72054 non-null  object\n",
      "dtypes: int64(61), object(12)\n",
      "memory usage: 40.1+ MB\n"
     ]
    }
   ],
   "source": [
    "data.info()"
   ]
  },
  {
   "cell_type": "code",
   "execution_count": 4,
   "id": "12381d7a",
   "metadata": {},
   "outputs": [
    {
     "data": {
      "text/plain": [
       "bank-02    13496\n",
       "bank-03    12023\n",
       "bank-01     9406\n",
       "bank-04     8864\n",
       "bank-05     7237\n",
       "bank-06     5374\n",
       "bank-00     4656\n",
       "bank-07     3645\n",
       "bank-08     2673\n",
       "bank-09     1925\n",
       "bank-10     1138\n",
       "bank-11      630\n",
       "bank-12      380\n",
       "bank-13      262\n",
       "bank-14      178\n",
       "bank-15      135\n",
       "bank-16       20\n",
       "bank-17       12\n",
       "Name: BankNumber, dtype: int64"
      ]
     },
     "execution_count": 4,
     "metadata": {},
     "output_type": "execute_result"
    }
   ],
   "source": [
    "data['BankNumber'].value_counts()"
   ]
  },
  {
   "cell_type": "code",
   "execution_count": 5,
   "id": "c0aa99b5",
   "metadata": {},
   "outputs": [
    {
     "data": {
      "text/plain": [
       "ml    42424\n",
       "rg    29630\n",
       "Name: BankType, dtype: int64"
      ]
     },
     "execution_count": 5,
     "metadata": {},
     "output_type": "execute_result"
    }
   ],
   "source": [
    "data['BankType'].value_counts()"
   ]
  },
  {
   "cell_type": "code",
   "execution_count": 14,
   "id": "ea2abc62",
   "metadata": {},
   "outputs": [
    {
     "name": "stdout",
     "output_type": "stream",
     "text": [
      "Mainline Sortation One Bag count is:  122660\n",
      "Regional Bank Sortation One Bag count is:  42916\n"
     ]
    },
    {
     "data": {
      "image/png": "[encoded data removed]",
      "text/plain": [
       "<Figure size 640x480 with 1 Axes>"
      ]
     },
     "metadata": {},
     "output_type": "display_data"
    }
   ],
   "source": [
    "# Split the DataFrame into subsets based on \"BankType\"\n",
    "mainline_df = data[data[\"BankType\"] == \"ml\"]\n",
    "regional_df = data[data[\"BankType\"] == \"rg\"]\n",
    "\n",
    "# Compute the sum of \"ArrLocalBag\" for each subset\n",
    "mainline_bag_count = mainline_df[\"ArrConxSortOneBags\"].sum()\n",
    "regional_bag_count = regional_df[\"ArrConxSortOneBags\"].sum()\n",
    "\n",
    "# print the count\n",
    "print(\"Mainline Sortation One Bag count is: \",mainline_bag_count)\n",
    "print(\"Regional Bank Sortation One Bag count is: \",regional_bag_count)\n",
    "\n",
    "# Create a bar chart showing the bag count for each bank type\n",
    "bank_types = [\"Mainline\", \"Regional\"]\n",
    "bag_counts = [mainline_bag_count, regional_bag_count]\n",
    "\n",
    "plt.bar(bank_types, bag_counts)\n",
    "plt.title(\"Bag Count by Bank Type\")\n",
    "plt.xlabel(\"Bank Type\")\n",
    "plt.ylabel(\"Bag Count\")\n",
    "plt.show()"
   ]
  },
  {
   "cell_type": "code",
   "execution_count": 15,
   "id": "4fda738c",
   "metadata": {},
   "outputs": [
    {
     "data": {
      "image/png": "[encoded data removed]",
      "text/plain": [
       "<Figure size 640x480 with 1 Axes>"
      ]
     },
     "metadata": {},
     "output_type": "display_data"
    }
   ],
   "source": [
    "# Group by destination and compute sum of ArrConxSortOneBags\n",
    "destinations = data.groupby(\"Destination\")[\"ArrConxSortOneBags\"].sum()\n",
    "\n",
    "# Sort destinations by their corresponding bag counts in ascending order\n",
    "sorted_destinations = destinations.sort_values(ascending=True)\n",
    "\n",
    "# Plot the bar chart\n",
    "plt.barh(sorted_destinations.index[-5:], sorted_destinations[-5:])\n",
    "plt.xlabel(\"Sortation One Bags\")\n",
    "plt.title(\"Top Five Destinations by Sortation One Bags\")\n",
    "plt.show()\n"
   ]
  },
  {
   "cell_type": "code",
   "execution_count": 16,
   "id": "5fa6dab6",
   "metadata": {},
   "outputs": [
    {
     "name": "stdout",
     "output_type": "stream",
     "text": [
      "Top Five Destinations by Bag Count:\n",
      "DFW : 67851\n",
      "CLT : 36748\n",
      "ORD : 16151\n",
      "MIA : 13104\n",
      "PHX : 10874\n"
     ]
    }
   ],
   "source": [
    "# Get the top five destinations by bag count\n",
    "top_destinations = destinations.nlargest(5)\n",
    "\n",
    "# Print the top five destinations with their bag count\n",
    "print(\"Top Five Destinations by Bag Count:\")\n",
    "for destination, bag_count in top_destinations.items():\n",
    "    print(destination, \":\", bag_count)"
   ]
  },
  {
   "cell_type": "code",
   "execution_count": 17,
   "id": "cdd64c5e",
   "metadata": {},
   "outputs": [
    {
     "data": {
      "text/plain": [
       "0    2023-Jan-01\n",
       "1    2023-Jan-01\n",
       "2    2023-Jan-01\n",
       "3    2023-Jan-01\n",
       "4    2023-Jan-01\n",
       "Name: DateOfTravel, dtype: object"
      ]
     },
     "execution_count": 17,
     "metadata": {},
     "output_type": "execute_result"
    }
   ],
   "source": [
    "data[\"DateOfTravel\"].head(5)"
   ]
  },
  {
   "cell_type": "code",
   "execution_count": null,
   "id": "4691413d",
   "metadata": {},
   "outputs": [],
   "source": []
  }
 ],
 "metadata": {
  "kernelspec": {
   "display_name": "Python 3 (ipykernel)",
   "language": "python",
   "name": "python3"
  },
  "language_info": {
   "codemirror_mode": {
    "name": "ipython",
    "version": 3
   },
   "file_extension": ".py",
   "mimetype": "text/x-python",
   "name": "python",
   "nbconvert_exporter": "python",
   "pygments_lexer": "ipython3",
   "version": "3.10.9"
  }
 },
 "nbformat": 4,
 "nbformat_minor": 5
}
